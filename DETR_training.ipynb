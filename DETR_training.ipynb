{
  "nbformat": 4,
  "nbformat_minor": 0,
  "metadata": {
    "colab": {
      "provenance": [],
      "toc_visible": true,
      "gpuType": "T4",
      "authorship_tag": "ABX9TyMI62InPPmVh1yyaPpxzyI+",
      "include_colab_link": true
    },
    "kernelspec": {
      "name": "python3",
      "display_name": "Python 3"
    },
    "language_info": {
      "name": "python"
    },
    "accelerator": "GPU"
  },
  "cells": [
    {
      "cell_type": "markdown",
      "metadata": {
        "id": "view-in-github",
        "colab_type": "text"
      },
      "source": [
        "<a href=\"https://colab.research.google.com/github/Ilvecoding0912/Robotic-3D-Detection-In-Surgery/blob/main/DETR_training.ipynb\" target=\"_parent\"><img src=\"https://colab.research.google.com/assets/colab-badge.svg\" alt=\"Open In Colab\"/></a>"
      ]
    },
    {
      "cell_type": "markdown",
      "source": [
        "# DETR training process\n"
      ],
      "metadata": {
        "id": "udwFrw6ZiYP6"
      }
    },
    {
      "cell_type": "markdown",
      "source": [
        "Clone DETR Repo after changing to our dataset"
      ],
      "metadata": {
        "id": "d9AQWNd9gKQa"
      }
    },
    {
      "cell_type": "code",
      "execution_count": 1,
      "metadata": {
        "colab": {
          "base_uri": "https://localhost:8080/"
        },
        "id": "Pax7w1zmgEJ0",
        "outputId": "9fe3b91d-3255-4cf9-fc6a-81d499ac8338"
      },
      "outputs": [
        {
          "output_type": "stream",
          "name": "stdout",
          "text": [
            "Cloning into 'DETR_Robotic_Surgery'...\n",
            "remote: Enumerating objects: 118, done.\u001b[K\n",
            "remote: Counting objects: 100% (38/38), done.\u001b[K\n",
            "remote: Compressing objects: 100% (37/37), done.\u001b[K\n",
            "remote: Total 118 (delta 10), reused 0 (delta 0), pack-reused 80\u001b[K\n",
            "Receiving objects: 100% (118/118), 2.46 MiB | 20.63 MiB/s, done.\n",
            "Resolving deltas: 100% (28/28), done.\n",
            "/content/DETR_Robotic_Surgery\n"
          ]
        }
      ],
      "source": [
        "!git clone https://github.com/Ilvecoding0912/DETR_Robotic_Surgery.git\n",
        "%cd DETR_Robotic_Surgery"
      ]
    },
    {
      "cell_type": "markdown",
      "source": [
        "Download DETR weights"
      ],
      "metadata": {
        "id": "npD6VBwsxc3m"
      }
    },
    {
      "cell_type": "code",
      "source": [
        "import gdown\n",
        "\n",
        "url = 'https://drive.google.com/uc?id=1HV2Tit0CsVeYKHugjx8QxROPegQa3AV-'\n",
        "gdown.download(url,'detr_weights.pth',quiet=True)"
      ],
      "metadata": {
        "colab": {
          "base_uri": "https://localhost:8080/",
          "height": 35
        },
        "id": "zD1ubNUGtKKi",
        "outputId": "5b332386-3989-4f1f-c1a0-a47c456609de"
      },
      "execution_count": 2,
      "outputs": [
        {
          "output_type": "execute_result",
          "data": {
            "text/plain": [
              "'detr_weights.pth'"
            ],
            "application/vnd.google.colaboratory.intrinsic+json": {
              "type": "string"
            }
          },
          "metadata": {},
          "execution_count": 2
        }
      ]
    },
    {
      "cell_type": "markdown",
      "source": [
        "Part of content related to training in 'main.py'.\n",
        "(We ignore the evaluation part.)"
      ],
      "metadata": {
        "id": "35SBHOQ4lXOi"
      }
    },
    {
      "cell_type": "code",
      "source": [
        "from main import get_args_parser\n",
        "import argparse\n",
        "import torch\n",
        "import time\n",
        "import random\n",
        "import datetime\n",
        "import json\n",
        "from torch.utils.data import DataLoader, DistributedSampler\n",
        "import util.misc as utils\n",
        "from datasets import build_dataset, get_coco_api_from_dataset\n",
        "from pathlib import Path\n",
        "import numpy as np\n",
        "from engine import evaluate, train_one_epoch\n",
        "from models import build_model\n",
        "from datasets.coco import *\n",
        "import os\n",
        "\n",
        "def main():\n",
        "\n",
        "    parser = argparse.ArgumentParser('DETR training and evaluation script', parents=[get_args_parser()])\n",
        "    args = parser.parse_args([])\n",
        "    args.output_dir = './outputs' # Results dir\n",
        "    args.endovis_path = 'endovis17' # Path to our dataset\n",
        "    args.device = 'cuda' if torch.cuda.is_available() else 'cpu'\n",
        "    # training parameters\n",
        "    args.start_epoch = 0\n",
        "    args.epochs = 5 # total number of epoch\n",
        "    args.batch_size = 2\n",
        "\n",
        "    # create output directoty if not exist\n",
        "    if os.path.exists(args.output_dir) is False:\n",
        "      os.mkdir(args.output_dir)\n",
        "\n",
        "    utils.init_distributed_mode(args)\n",
        "    print(\"git:\\n  {}\\n\".format(utils.get_sha()))\n",
        "    print(args)\n",
        "\n",
        "    device = torch.device(args.device)\n",
        "\n",
        "    # fix the seed for reproducibility\n",
        "    seed = args.seed + utils.get_rank()\n",
        "    torch.manual_seed(seed)\n",
        "    np.random.seed(seed)\n",
        "    random.seed(seed)\n",
        "\n",
        "    # create model\n",
        "    model, criterion, postprocessors = build_model(args)\n",
        "    model.to(device)\n",
        "\n",
        "    model_without_ddp = model\n",
        "    n_parameters = sum(p.numel() for p in model.parameters() if p.requires_grad)\n",
        "    print('number of params:', n_parameters)\n",
        "\n",
        "    param_dicts = [\n",
        "        {\"params\": [p for n, p in model_without_ddp.named_parameters() if \"backbone\" not in n and p.requires_grad]},\n",
        "        {\n",
        "            \"params\": [p for n, p in model_without_ddp.named_parameters() if \"backbone\" in n and p.requires_grad],\n",
        "            \"lr\": args.lr_backbone,\n",
        "        },\n",
        "    ]\n",
        "    optimizer = torch.optim.AdamW(param_dicts, lr=args.lr,\n",
        "                                  weight_decay=args.weight_decay)\n",
        "    lr_scheduler = torch.optim.lr_scheduler.StepLR(optimizer, args.lr_drop)\n",
        "\n",
        "    # Our dataset class (initialize in datasets->coco.py)\n",
        "    dataset_train = EnvidosDataset(args.endovis_path, transforms=make_coco_transforms('train'), mode='train', length=4)\n",
        "\n",
        "    if args.distributed:\n",
        "        sampler_train = DistributedSampler(dataset_train)\n",
        "    else:\n",
        "        sampler_train = torch.utils.data.RandomSampler(dataset_train)\n",
        "\n",
        "    batch_sampler_train = torch.utils.data.BatchSampler(\n",
        "        sampler_train, args.batch_size, drop_last=True)\n",
        "\n",
        "    data_loader_train = DataLoader(dataset_train, batch_sampler=batch_sampler_train,\n",
        "                                   collate_fn=utils.collate_fn, num_workers=args.num_workers)\n",
        "\n",
        "    #---------------------- Training Process ----------------------\n",
        "    print(\"Start training\")\n",
        "    start_time = time.time()\n",
        "\n",
        "    for epoch in range(args.start_epoch, args.epochs):\n",
        "        if args.distributed:\n",
        "            sampler_train.set_epoch(epoch)\n",
        "\n",
        "        #----------------- main training function (can be seen in 'engine.py') -----------------\n",
        "        train_stats = train_one_epoch(\n",
        "            model_without_ddp, criterion, data_loader_train, optimizer, device, epoch,\n",
        "            args.clip_max_norm)\n",
        "\n",
        "        lr_scheduler.step()\n",
        "\n",
        "        # Save trained models\n",
        "        output_dir = Path(args.output_dir)\n",
        "        if args.output_dir:\n",
        "            checkpoint_paths = [output_dir / f'checkpoint{epoch:04}.pth']\n",
        "            if (epoch + 1) % args.lr_drop == 0 or (epoch + 1) % 5 == 0:\n",
        "                checkpoint_paths.append(output_dir / f'checkpoint{epoch:04}_lr{args.lr}.pth')\n",
        "            for checkpoint_path in checkpoint_paths:\n",
        "                utils.save_on_master({\n",
        "                    'model': model_without_ddp.state_dict(),\n",
        "                    'optimizer': optimizer.state_dict(),\n",
        "                    'lr_scheduler': lr_scheduler.state_dict(),\n",
        "                    'epoch': epoch,\n",
        "                    'args': args,\n",
        "                }, checkpoint_path)\n",
        "\n",
        "        log_stats = {**{f'train_{k}': v for k, v in train_stats.items()},\n",
        "                     'epoch': epoch,\n",
        "                     'n_parameters': n_parameters}\n",
        "\n",
        "        if args.output_dir and utils.is_main_process():\n",
        "            with (output_dir / \"log.txt\").open(\"a\") as f:\n",
        "                f.write(json.dumps(log_stats) + \"\\n\")\n",
        "\n",
        "\n",
        "    total_time = time.time() - start_time\n",
        "    total_time_str = str(datetime.timedelta(seconds=int(total_time)))\n",
        "    print('Training time {}'.format(total_time_str))\n",
        "\n",
        "\n",
        "main()"
      ],
      "metadata": {
        "colab": {
          "base_uri": "https://localhost:8080/"
        },
        "id": "UkQzsVvBgdHt",
        "outputId": "7a002966-7aeb-4d03-e999-c7dc746bb381"
      },
      "execution_count": 3,
      "outputs": [
        {
          "output_type": "stream",
          "name": "stdout",
          "text": [
            "Not using distributed mode\n",
            "git:\n",
            "  sha: 620f6db10fc39148252ca1b758d02b916d9cdce1, status: has uncommited changes, branch: main\n",
            "\n",
            "Namespace(lr=0.0001, lr_backbone=1e-05, batch_size=2, weight_decay=0.0001, epochs=5, lr_drop=200, clip_max_norm=0.1, frozen_weights=None, model=True, backbone='resnet50', dilation=False, position_embedding='sine', enc_layers=6, dec_layers=6, dim_feedforward=2048, hidden_dim=256, dropout=0.1, nheads=8, num_queries=100, pre_norm=False, masks=False, aux_loss=True, set_cost_class=1, set_cost_bbox=5, set_cost_giou=2, mask_loss_coef=1, dice_loss_coef=1, bbox_loss_coef=5, giou_loss_coef=2, eos_coef=0.01, dataset_file='endovis17', coco_path=None, endovis_path='endovis17', coco_panoptic_path=None, remove_difficult=False, output_dir='./outputs', device='cuda', seed=42, resume='', start_epoch=0, eval=False, num_workers=2, world_size=1, dist_url='env://', distributed=False)\n"
          ]
        },
        {
          "output_type": "stream",
          "name": "stderr",
          "text": [
            "/usr/local/lib/python3.10/dist-packages/torchvision/models/_utils.py:208: UserWarning: The parameter 'pretrained' is deprecated since 0.13 and may be removed in the future, please use 'weights' instead.\n",
            "  warnings.warn(\n",
            "/usr/local/lib/python3.10/dist-packages/torchvision/models/_utils.py:223: UserWarning: Arguments other than a weight enum or `None` for 'weights' are deprecated since 0.13 and may be removed in the future. The current behavior is equivalent to passing `weights=ResNet50_Weights.IMAGENET1K_V1`. You can also use `weights=ResNet50_Weights.DEFAULT` to get the most up-to-date weights.\n",
            "  warnings.warn(msg)\n",
            "Downloading: \"https://download.pytorch.org/models/resnet50-0676ba61.pth\" to /root/.cache/torch/hub/checkpoints/resnet50-0676ba61.pth\n",
            "100%|██████████| 97.8M/97.8M [00:00<00:00, 284MB/s]\n"
          ]
        },
        {
          "output_type": "stream",
          "name": "stdout",
          "text": [
            "number of params: 41281037\n",
            "Start training\n",
            "Epoch: [0]  [0/2]  eta: 0:00:17  lr: 0.000100  class_error: 66.67  loss: 22.4941 (22.4941)  loss_ce: 2.3403 (2.3403)  loss_bbox: 0.5941 (0.5941)  loss_giou: 0.4833 (0.4833)  loss_ce_0: 2.3685 (2.3685)  loss_bbox_0: 1.0949 (1.0949)  loss_giou_0: 0.5298 (0.5298)  loss_ce_1: 2.3933 (2.3933)  loss_bbox_1: 0.8353 (0.8353)  loss_giou_1: 0.5557 (0.5557)  loss_ce_2: 2.3758 (2.3758)  loss_bbox_2: 0.8234 (0.8234)  loss_giou_2: 0.6742 (0.6742)  loss_ce_3: 2.4173 (2.4173)  loss_bbox_3: 0.8771 (0.8771)  loss_giou_3: 0.5837 (0.5837)  loss_ce_4: 2.3404 (2.3404)  loss_bbox_4: 0.7217 (0.7217)  loss_giou_4: 0.4855 (0.4855)  loss_ce_unscaled: 2.3403 (2.3403)  class_error_unscaled: 66.6667 (66.6667)  loss_bbox_unscaled: 0.1188 (0.1188)  loss_giou_unscaled: 0.2416 (0.2416)  cardinality_error_unscaled: 97.0000 (97.0000)  loss_ce_0_unscaled: 2.3685 (2.3685)  loss_bbox_0_unscaled: 0.2190 (0.2190)  loss_giou_0_unscaled: 0.2649 (0.2649)  cardinality_error_0_unscaled: 97.0000 (97.0000)  loss_ce_1_unscaled: 2.3933 (2.3933)  loss_bbox_1_unscaled: 0.1671 (0.1671)  loss_giou_1_unscaled: 0.2779 (0.2779)  cardinality_error_1_unscaled: 97.0000 (97.0000)  loss_ce_2_unscaled: 2.3758 (2.3758)  loss_bbox_2_unscaled: 0.1647 (0.1647)  loss_giou_2_unscaled: 0.3371 (0.3371)  cardinality_error_2_unscaled: 97.0000 (97.0000)  loss_ce_3_unscaled: 2.4173 (2.4173)  loss_bbox_3_unscaled: 0.1754 (0.1754)  loss_giou_3_unscaled: 0.2918 (0.2918)  cardinality_error_3_unscaled: 97.0000 (97.0000)  loss_ce_4_unscaled: 2.3404 (2.3404)  loss_bbox_4_unscaled: 0.1443 (0.1443)  loss_giou_4_unscaled: 0.2427 (0.2427)  cardinality_error_4_unscaled: 97.0000 (97.0000)  time: 8.8893  data: 0.5979  max mem: 2538\n",
            "Epoch: [0]  [1/2]  eta: 0:00:04  lr: 0.000100  class_error: 66.67  loss: 21.1345 (21.8143)  loss_ce: 2.2614 (2.3008)  loss_bbox: 0.5941 (0.6175)  loss_giou: 0.3882 (0.4357)  loss_ce_0: 2.3685 (2.4064)  loss_bbox_0: 0.8100 (0.9524)  loss_giou_0: 0.5298 (0.5326)  loss_ce_1: 2.3933 (2.4076)  loss_bbox_1: 0.6945 (0.7649)  loss_giou_1: 0.5213 (0.5385)  loss_ce_2: 2.3758 (2.3799)  loss_bbox_2: 0.7703 (0.7969)  loss_giou_2: 0.5034 (0.5888)  loss_ce_3: 2.2844 (2.3509)  loss_bbox_3: 0.6691 (0.7731)  loss_giou_3: 0.4381 (0.5109)  loss_ce_4: 2.2828 (2.3116)  loss_bbox_4: 0.6684 (0.6950)  loss_giou_4: 0.4160 (0.4507)  loss_ce_unscaled: 2.2614 (2.3008)  class_error_unscaled: 66.6667 (66.6667)  loss_bbox_unscaled: 0.1188 (0.1235)  loss_giou_unscaled: 0.1941 (0.2179)  cardinality_error_unscaled: 97.0000 (97.0000)  loss_ce_0_unscaled: 2.3685 (2.4064)  loss_bbox_0_unscaled: 0.1620 (0.1905)  loss_giou_0_unscaled: 0.2649 (0.2663)  cardinality_error_0_unscaled: 97.0000 (97.0000)  loss_ce_1_unscaled: 2.3933 (2.4076)  loss_bbox_1_unscaled: 0.1389 (0.1530)  loss_giou_1_unscaled: 0.2606 (0.2692)  cardinality_error_1_unscaled: 97.0000 (97.0000)  loss_ce_2_unscaled: 2.3758 (2.3799)  loss_bbox_2_unscaled: 0.1541 (0.1594)  loss_giou_2_unscaled: 0.2517 (0.2944)  cardinality_error_2_unscaled: 97.0000 (97.0000)  loss_ce_3_unscaled: 2.2844 (2.3509)  loss_bbox_3_unscaled: 0.1338 (0.1546)  loss_giou_3_unscaled: 0.2190 (0.2554)  cardinality_error_3_unscaled: 97.0000 (97.0000)  loss_ce_4_unscaled: 2.2828 (2.3116)  loss_bbox_4_unscaled: 0.1337 (0.1390)  loss_giou_4_unscaled: 0.2080 (0.2254)  cardinality_error_4_unscaled: 97.0000 (97.0000)  time: 4.6594  data: 0.3051  max mem: 3014\n",
            "Epoch: [0] Total time: 0:00:09 (4.6848 s / it)\n",
            "Averaged stats: lr: 0.000100  class_error: 66.67  loss: 21.1345 (21.8143)  loss_ce: 2.2614 (2.3008)  loss_bbox: 0.5941 (0.6175)  loss_giou: 0.3882 (0.4357)  loss_ce_0: 2.3685 (2.4064)  loss_bbox_0: 0.8100 (0.9524)  loss_giou_0: 0.5298 (0.5326)  loss_ce_1: 2.3933 (2.4076)  loss_bbox_1: 0.6945 (0.7649)  loss_giou_1: 0.5213 (0.5385)  loss_ce_2: 2.3758 (2.3799)  loss_bbox_2: 0.7703 (0.7969)  loss_giou_2: 0.5034 (0.5888)  loss_ce_3: 2.2844 (2.3509)  loss_bbox_3: 0.6691 (0.7731)  loss_giou_3: 0.4381 (0.5109)  loss_ce_4: 2.2828 (2.3116)  loss_bbox_4: 0.6684 (0.6950)  loss_giou_4: 0.4160 (0.4507)  loss_ce_unscaled: 2.2614 (2.3008)  class_error_unscaled: 66.6667 (66.6667)  loss_bbox_unscaled: 0.1188 (0.1235)  loss_giou_unscaled: 0.1941 (0.2179)  cardinality_error_unscaled: 97.0000 (97.0000)  loss_ce_0_unscaled: 2.3685 (2.4064)  loss_bbox_0_unscaled: 0.1620 (0.1905)  loss_giou_0_unscaled: 0.2649 (0.2663)  cardinality_error_0_unscaled: 97.0000 (97.0000)  loss_ce_1_unscaled: 2.3933 (2.4076)  loss_bbox_1_unscaled: 0.1389 (0.1530)  loss_giou_1_unscaled: 0.2606 (0.2692)  cardinality_error_1_unscaled: 97.0000 (97.0000)  loss_ce_2_unscaled: 2.3758 (2.3799)  loss_bbox_2_unscaled: 0.1541 (0.1594)  loss_giou_2_unscaled: 0.2517 (0.2944)  cardinality_error_2_unscaled: 97.0000 (97.0000)  loss_ce_3_unscaled: 2.2844 (2.3509)  loss_bbox_3_unscaled: 0.1338 (0.1546)  loss_giou_3_unscaled: 0.2190 (0.2554)  cardinality_error_3_unscaled: 97.0000 (97.0000)  loss_ce_4_unscaled: 2.2828 (2.3116)  loss_bbox_4_unscaled: 0.1337 (0.1390)  loss_giou_4_unscaled: 0.2080 (0.2254)  cardinality_error_4_unscaled: 97.0000 (97.0000)\n",
            "Epoch: [1]  [0/2]  eta: 0:00:01  lr: 0.000100  class_error: 66.67  loss: 20.3891 (20.3891)  loss_ce: 2.1497 (2.1497)  loss_bbox: 0.5888 (0.5888)  loss_giou: 0.3931 (0.3931)  loss_ce_0: 2.3716 (2.3716)  loss_bbox_0: 0.7911 (0.7911)  loss_giou_0: 0.5791 (0.5791)  loss_ce_1: 2.2662 (2.2662)  loss_bbox_1: 0.7984 (0.7984)  loss_giou_1: 0.4842 (0.4842)  loss_ce_2: 2.2736 (2.2736)  loss_bbox_2: 0.7523 (0.7523)  loss_giou_2: 0.4619 (0.4619)  loss_ce_3: 2.2365 (2.2365)  loss_bbox_3: 0.5828 (0.5828)  loss_giou_3: 0.4536 (0.4536)  loss_ce_4: 2.1962 (2.1962)  loss_bbox_4: 0.5825 (0.5825)  loss_giou_4: 0.4276 (0.4276)  loss_ce_unscaled: 2.1497 (2.1497)  class_error_unscaled: 66.6667 (66.6667)  loss_bbox_unscaled: 0.1178 (0.1178)  loss_giou_unscaled: 0.1965 (0.1965)  cardinality_error_unscaled: 97.0000 (97.0000)  loss_ce_0_unscaled: 2.3716 (2.3716)  loss_bbox_0_unscaled: 0.1582 (0.1582)  loss_giou_0_unscaled: 0.2895 (0.2895)  cardinality_error_0_unscaled: 97.0000 (97.0000)  loss_ce_1_unscaled: 2.2662 (2.2662)  loss_bbox_1_unscaled: 0.1597 (0.1597)  loss_giou_1_unscaled: 0.2421 (0.2421)  cardinality_error_1_unscaled: 97.0000 (97.0000)  loss_ce_2_unscaled: 2.2736 (2.2736)  loss_bbox_2_unscaled: 0.1505 (0.1505)  loss_giou_2_unscaled: 0.2310 (0.2310)  cardinality_error_2_unscaled: 97.0000 (97.0000)  loss_ce_3_unscaled: 2.2365 (2.2365)  loss_bbox_3_unscaled: 0.1166 (0.1166)  loss_giou_3_unscaled: 0.2268 (0.2268)  cardinality_error_3_unscaled: 97.0000 (97.0000)  loss_ce_4_unscaled: 2.1962 (2.1962)  loss_bbox_4_unscaled: 0.1165 (0.1165)  loss_giou_4_unscaled: 0.2138 (0.2138)  cardinality_error_4_unscaled: 97.0000 (97.0000)  time: 0.7662  data: 0.2853  max mem: 3014\n",
            "Epoch: [1]  [1/2]  eta: 0:00:00  lr: 0.000100  class_error: 66.67  loss: 18.8708 (19.6300)  loss_ce: 2.0777 (2.1137)  loss_bbox: 0.4877 (0.5382)  loss_giou: 0.3543 (0.3737)  loss_ce_0: 2.3414 (2.3565)  loss_bbox_0: 0.6100 (0.7005)  loss_giou_0: 0.4382 (0.5086)  loss_ce_1: 2.2662 (2.2683)  loss_bbox_1: 0.5979 (0.6982)  loss_giou_1: 0.4420 (0.4631)  loss_ce_2: 2.2736 (2.2955)  loss_bbox_2: 0.5326 (0.6424)  loss_giou_2: 0.4043 (0.4331)  loss_ce_3: 2.1476 (2.1921)  loss_bbox_3: 0.5507 (0.5667)  loss_giou_3: 0.3945 (0.4241)  loss_ce_4: 2.1016 (2.1489)  loss_bbox_4: 0.4486 (0.5155)  loss_giou_4: 0.3537 (0.3906)  loss_ce_unscaled: 2.0777 (2.1137)  class_error_unscaled: 66.6667 (66.6667)  loss_bbox_unscaled: 0.0975 (0.1076)  loss_giou_unscaled: 0.1772 (0.1868)  cardinality_error_unscaled: 97.0000 (97.0000)  loss_ce_0_unscaled: 2.3414 (2.3565)  loss_bbox_0_unscaled: 0.1220 (0.1401)  loss_giou_0_unscaled: 0.2191 (0.2543)  cardinality_error_0_unscaled: 97.0000 (97.0000)  loss_ce_1_unscaled: 2.2662 (2.2683)  loss_bbox_1_unscaled: 0.1196 (0.1396)  loss_giou_1_unscaled: 0.2210 (0.2316)  cardinality_error_1_unscaled: 97.0000 (97.0000)  loss_ce_2_unscaled: 2.2736 (2.2955)  loss_bbox_2_unscaled: 0.1065 (0.1285)  loss_giou_2_unscaled: 0.2022 (0.2166)  cardinality_error_2_unscaled: 97.0000 (97.0000)  loss_ce_3_unscaled: 2.1476 (2.1921)  loss_bbox_3_unscaled: 0.1101 (0.1133)  loss_giou_3_unscaled: 0.1973 (0.2120)  cardinality_error_3_unscaled: 97.0000 (97.0000)  loss_ce_4_unscaled: 2.1016 (2.1489)  loss_bbox_4_unscaled: 0.0897 (0.1031)  loss_giou_4_unscaled: 0.1768 (0.1953)  cardinality_error_4_unscaled: 97.0000 (97.0000)  time: 0.6109  data: 0.1508  max mem: 3014\n",
            "Epoch: [1] Total time: 0:00:01 (0.6540 s / it)\n",
            "Averaged stats: lr: 0.000100  class_error: 66.67  loss: 18.8708 (19.6300)  loss_ce: 2.0777 (2.1137)  loss_bbox: 0.4877 (0.5382)  loss_giou: 0.3543 (0.3737)  loss_ce_0: 2.3414 (2.3565)  loss_bbox_0: 0.6100 (0.7005)  loss_giou_0: 0.4382 (0.5086)  loss_ce_1: 2.2662 (2.2683)  loss_bbox_1: 0.5979 (0.6982)  loss_giou_1: 0.4420 (0.4631)  loss_ce_2: 2.2736 (2.2955)  loss_bbox_2: 0.5326 (0.6424)  loss_giou_2: 0.4043 (0.4331)  loss_ce_3: 2.1476 (2.1921)  loss_bbox_3: 0.5507 (0.5667)  loss_giou_3: 0.3945 (0.4241)  loss_ce_4: 2.1016 (2.1489)  loss_bbox_4: 0.4486 (0.5155)  loss_giou_4: 0.3537 (0.3906)  loss_ce_unscaled: 2.0777 (2.1137)  class_error_unscaled: 66.6667 (66.6667)  loss_bbox_unscaled: 0.0975 (0.1076)  loss_giou_unscaled: 0.1772 (0.1868)  cardinality_error_unscaled: 97.0000 (97.0000)  loss_ce_0_unscaled: 2.3414 (2.3565)  loss_bbox_0_unscaled: 0.1220 (0.1401)  loss_giou_0_unscaled: 0.2191 (0.2543)  cardinality_error_0_unscaled: 97.0000 (97.0000)  loss_ce_1_unscaled: 2.2662 (2.2683)  loss_bbox_1_unscaled: 0.1196 (0.1396)  loss_giou_1_unscaled: 0.2210 (0.2316)  cardinality_error_1_unscaled: 97.0000 (97.0000)  loss_ce_2_unscaled: 2.2736 (2.2955)  loss_bbox_2_unscaled: 0.1065 (0.1285)  loss_giou_2_unscaled: 0.2022 (0.2166)  cardinality_error_2_unscaled: 97.0000 (97.0000)  loss_ce_3_unscaled: 2.1476 (2.1921)  loss_bbox_3_unscaled: 0.1101 (0.1133)  loss_giou_3_unscaled: 0.1973 (0.2120)  cardinality_error_3_unscaled: 97.0000 (97.0000)  loss_ce_4_unscaled: 2.1016 (2.1489)  loss_bbox_4_unscaled: 0.0897 (0.1031)  loss_giou_4_unscaled: 0.1768 (0.1953)  cardinality_error_4_unscaled: 97.0000 (97.0000)\n",
            "Epoch: [2]  [0/2]  eta: 0:00:01  lr: 0.000100  class_error: 66.67  loss: 21.7336 (21.7336)  loss_ce: 2.2104 (2.2104)  loss_bbox: 0.7890 (0.7890)  loss_giou: 0.4643 (0.4643)  loss_ce_0: 2.2544 (2.2544)  loss_bbox_0: 0.7278 (0.7278)  loss_giou_0: 0.5857 (0.5857)  loss_ce_1: 2.3031 (2.3031)  loss_bbox_1: 0.9081 (0.9081)  loss_giou_1: 0.6408 (0.6408)  loss_ce_2: 2.2609 (2.2609)  loss_bbox_2: 0.8805 (0.8805)  loss_giou_2: 0.5583 (0.5583)  loss_ce_3: 2.2953 (2.2953)  loss_bbox_3: 0.8509 (0.8509)  loss_giou_3: 0.4819 (0.4819)  loss_ce_4: 2.2301 (2.2301)  loss_bbox_4: 0.8127 (0.8127)  loss_giou_4: 0.4795 (0.4795)  loss_ce_unscaled: 2.2104 (2.2104)  class_error_unscaled: 66.6667 (66.6667)  loss_bbox_unscaled: 0.1578 (0.1578)  loss_giou_unscaled: 0.2322 (0.2322)  cardinality_error_unscaled: 97.0000 (97.0000)  loss_ce_0_unscaled: 2.2544 (2.2544)  loss_bbox_0_unscaled: 0.1456 (0.1456)  loss_giou_0_unscaled: 0.2928 (0.2928)  cardinality_error_0_unscaled: 97.0000 (97.0000)  loss_ce_1_unscaled: 2.3031 (2.3031)  loss_bbox_1_unscaled: 0.1816 (0.1816)  loss_giou_1_unscaled: 0.3204 (0.3204)  cardinality_error_1_unscaled: 97.0000 (97.0000)  loss_ce_2_unscaled: 2.2609 (2.2609)  loss_bbox_2_unscaled: 0.1761 (0.1761)  loss_giou_2_unscaled: 0.2791 (0.2791)  cardinality_error_2_unscaled: 97.0000 (97.0000)  loss_ce_3_unscaled: 2.2953 (2.2953)  loss_bbox_3_unscaled: 0.1702 (0.1702)  loss_giou_3_unscaled: 0.2410 (0.2410)  cardinality_error_3_unscaled: 97.0000 (97.0000)  loss_ce_4_unscaled: 2.2301 (2.2301)  loss_bbox_4_unscaled: 0.1625 (0.1625)  loss_giou_4_unscaled: 0.2397 (0.2397)  cardinality_error_4_unscaled: 97.0000 (97.0000)  time: 0.7525  data: 0.2795  max mem: 3014\n",
            "Epoch: [2]  [1/2]  eta: 0:00:00  lr: 0.000100  class_error: 66.67  loss: 18.1896 (19.9616)  loss_ce: 2.0532 (2.1318)  loss_bbox: 0.4795 (0.6342)  loss_giou: 0.3945 (0.4294)  loss_ce_0: 2.2301 (2.2422)  loss_bbox_0: 0.5079 (0.6178)  loss_giou_0: 0.4251 (0.5054)  loss_ce_1: 2.2467 (2.2749)  loss_bbox_1: 0.3831 (0.6456)  loss_giou_1: 0.3250 (0.4829)  loss_ce_2: 2.2415 (2.2512)  loss_bbox_2: 0.5361 (0.7083)  loss_giou_2: 0.3807 (0.4695)  loss_ce_3: 2.1249 (2.2101)  loss_bbox_3: 0.4755 (0.6632)  loss_giou_3: 0.3895 (0.4357)  loss_ce_4: 2.0854 (2.1577)  loss_bbox_4: 0.5025 (0.6576)  loss_giou_4: 0.4084 (0.4439)  loss_ce_unscaled: 2.0532 (2.1318)  class_error_unscaled: 66.6667 (66.6667)  loss_bbox_unscaled: 0.0959 (0.1268)  loss_giou_unscaled: 0.1972 (0.2147)  cardinality_error_unscaled: 97.0000 (97.0000)  loss_ce_0_unscaled: 2.2301 (2.2422)  loss_bbox_0_unscaled: 0.1016 (0.1236)  loss_giou_0_unscaled: 0.2126 (0.2527)  cardinality_error_0_unscaled: 97.0000 (97.0000)  loss_ce_1_unscaled: 2.2467 (2.2749)  loss_bbox_1_unscaled: 0.0766 (0.1291)  loss_giou_1_unscaled: 0.1625 (0.2414)  cardinality_error_1_unscaled: 97.0000 (97.0000)  loss_ce_2_unscaled: 2.2415 (2.2512)  loss_bbox_2_unscaled: 0.1072 (0.1417)  loss_giou_2_unscaled: 0.1904 (0.2348)  cardinality_error_2_unscaled: 97.0000 (97.0000)  loss_ce_3_unscaled: 2.1249 (2.2101)  loss_bbox_3_unscaled: 0.0951 (0.1326)  loss_giou_3_unscaled: 0.1948 (0.2179)  cardinality_error_3_unscaled: 97.0000 (97.0000)  loss_ce_4_unscaled: 2.0854 (2.1577)  loss_bbox_4_unscaled: 0.1005 (0.1315)  loss_giou_4_unscaled: 0.2042 (0.2220)  cardinality_error_4_unscaled: 97.0000 (97.0000)  time: 0.5912  data: 0.1454  max mem: 3014\n",
            "Epoch: [2] Total time: 0:00:01 (0.6195 s / it)\n",
            "Averaged stats: lr: 0.000100  class_error: 66.67  loss: 18.1896 (19.9616)  loss_ce: 2.0532 (2.1318)  loss_bbox: 0.4795 (0.6342)  loss_giou: 0.3945 (0.4294)  loss_ce_0: 2.2301 (2.2422)  loss_bbox_0: 0.5079 (0.6178)  loss_giou_0: 0.4251 (0.5054)  loss_ce_1: 2.2467 (2.2749)  loss_bbox_1: 0.3831 (0.6456)  loss_giou_1: 0.3250 (0.4829)  loss_ce_2: 2.2415 (2.2512)  loss_bbox_2: 0.5361 (0.7083)  loss_giou_2: 0.3807 (0.4695)  loss_ce_3: 2.1249 (2.2101)  loss_bbox_3: 0.4755 (0.6632)  loss_giou_3: 0.3895 (0.4357)  loss_ce_4: 2.0854 (2.1577)  loss_bbox_4: 0.5025 (0.6576)  loss_giou_4: 0.4084 (0.4439)  loss_ce_unscaled: 2.0532 (2.1318)  class_error_unscaled: 66.6667 (66.6667)  loss_bbox_unscaled: 0.0959 (0.1268)  loss_giou_unscaled: 0.1972 (0.2147)  cardinality_error_unscaled: 97.0000 (97.0000)  loss_ce_0_unscaled: 2.2301 (2.2422)  loss_bbox_0_unscaled: 0.1016 (0.1236)  loss_giou_0_unscaled: 0.2126 (0.2527)  cardinality_error_0_unscaled: 97.0000 (97.0000)  loss_ce_1_unscaled: 2.2467 (2.2749)  loss_bbox_1_unscaled: 0.0766 (0.1291)  loss_giou_1_unscaled: 0.1625 (0.2414)  cardinality_error_1_unscaled: 97.0000 (97.0000)  loss_ce_2_unscaled: 2.2415 (2.2512)  loss_bbox_2_unscaled: 0.1072 (0.1417)  loss_giou_2_unscaled: 0.1904 (0.2348)  cardinality_error_2_unscaled: 97.0000 (97.0000)  loss_ce_3_unscaled: 2.1249 (2.2101)  loss_bbox_3_unscaled: 0.0951 (0.1326)  loss_giou_3_unscaled: 0.1948 (0.2179)  cardinality_error_3_unscaled: 97.0000 (97.0000)  loss_ce_4_unscaled: 2.0854 (2.1577)  loss_bbox_4_unscaled: 0.1005 (0.1315)  loss_giou_4_unscaled: 0.2042 (0.2220)  cardinality_error_4_unscaled: 97.0000 (97.0000)\n",
            "Epoch: [3]  [0/2]  eta: 0:00:01  lr: 0.000100  class_error: 50.00  loss: 17.6945 (17.6945)  loss_ce: 1.8960 (1.8960)  loss_bbox: 0.3994 (0.3994)  loss_giou: 0.3370 (0.3370)  loss_ce_0: 2.2140 (2.2140)  loss_bbox_0: 0.5934 (0.5934)  loss_giou_0: 0.4546 (0.4546)  loss_ce_1: 2.1257 (2.1257)  loss_bbox_1: 0.5324 (0.5324)  loss_giou_1: 0.4423 (0.4423)  loss_ce_2: 2.0555 (2.0555)  loss_bbox_2: 0.5216 (0.5216)  loss_giou_2: 0.4112 (0.4112)  loss_ce_3: 2.0234 (2.0234)  loss_bbox_3: 0.5536 (0.5536)  loss_giou_3: 0.3902 (0.3902)  loss_ce_4: 1.9246 (1.9246)  loss_bbox_4: 0.4492 (0.4492)  loss_giou_4: 0.3703 (0.3703)  loss_ce_unscaled: 1.8960 (1.8960)  class_error_unscaled: 50.0000 (50.0000)  loss_bbox_unscaled: 0.0799 (0.0799)  loss_giou_unscaled: 0.1685 (0.1685)  cardinality_error_unscaled: 97.0000 (97.0000)  loss_ce_0_unscaled: 2.2140 (2.2140)  loss_bbox_0_unscaled: 0.1187 (0.1187)  loss_giou_0_unscaled: 0.2273 (0.2273)  cardinality_error_0_unscaled: 97.0000 (97.0000)  loss_ce_1_unscaled: 2.1257 (2.1257)  loss_bbox_1_unscaled: 0.1065 (0.1065)  loss_giou_1_unscaled: 0.2212 (0.2212)  cardinality_error_1_unscaled: 97.0000 (97.0000)  loss_ce_2_unscaled: 2.0555 (2.0555)  loss_bbox_2_unscaled: 0.1043 (0.1043)  loss_giou_2_unscaled: 0.2056 (0.2056)  cardinality_error_2_unscaled: 97.0000 (97.0000)  loss_ce_3_unscaled: 2.0234 (2.0234)  loss_bbox_3_unscaled: 0.1107 (0.1107)  loss_giou_3_unscaled: 0.1951 (0.1951)  cardinality_error_3_unscaled: 97.0000 (97.0000)  loss_ce_4_unscaled: 1.9246 (1.9246)  loss_bbox_4_unscaled: 0.0898 (0.0898)  loss_giou_4_unscaled: 0.1852 (0.1852)  cardinality_error_4_unscaled: 97.0000 (97.0000)  time: 0.7753  data: 0.3040  max mem: 3014\n",
            "Epoch: [3]  [1/2]  eta: 0:00:00  lr: 0.000100  class_error: 50.00  loss: 17.6945 (18.6079)  loss_ce: 1.8516 (1.8738)  loss_bbox: 0.3994 (0.5265)  loss_giou: 0.3370 (0.4567)  loss_ce_0: 2.1638 (2.1889)  loss_bbox_0: 0.5934 (0.7492)  loss_giou_0: 0.4546 (0.5229)  loss_ce_1: 2.1029 (2.1143)  loss_bbox_1: 0.5324 (0.5594)  loss_giou_1: 0.3645 (0.4034)  loss_ce_2: 2.0555 (2.0674)  loss_bbox_2: 0.5216 (0.6037)  loss_giou_2: 0.4112 (0.5085)  loss_ce_3: 1.9547 (1.9891)  loss_bbox_3: 0.5536 (0.5955)  loss_giou_3: 0.3902 (0.4713)  loss_ce_4: 1.9246 (1.9302)  loss_bbox_4: 0.4492 (0.5716)  loss_giou_4: 0.3703 (0.4755)  loss_ce_unscaled: 1.8516 (1.8738)  class_error_unscaled: 50.0000 (50.0000)  loss_bbox_unscaled: 0.0799 (0.1053)  loss_giou_unscaled: 0.1685 (0.2284)  cardinality_error_unscaled: 97.0000 (97.0000)  loss_ce_0_unscaled: 2.1638 (2.1889)  loss_bbox_0_unscaled: 0.1187 (0.1498)  loss_giou_0_unscaled: 0.2273 (0.2614)  cardinality_error_0_unscaled: 97.0000 (97.0000)  loss_ce_1_unscaled: 2.1029 (2.1143)  loss_bbox_1_unscaled: 0.1065 (0.1119)  loss_giou_1_unscaled: 0.1823 (0.2017)  cardinality_error_1_unscaled: 97.0000 (97.0000)  loss_ce_2_unscaled: 2.0555 (2.0674)  loss_bbox_2_unscaled: 0.1043 (0.1207)  loss_giou_2_unscaled: 0.2056 (0.2543)  cardinality_error_2_unscaled: 97.0000 (97.0000)  loss_ce_3_unscaled: 1.9547 (1.9891)  loss_bbox_3_unscaled: 0.1107 (0.1191)  loss_giou_3_unscaled: 0.1951 (0.2357)  cardinality_error_3_unscaled: 97.0000 (97.0000)  loss_ce_4_unscaled: 1.9246 (1.9302)  loss_bbox_4_unscaled: 0.0898 (0.1143)  loss_giou_4_unscaled: 0.1852 (0.2377)  cardinality_error_4_unscaled: 97.0000 (97.0000)  time: 0.5985  data: 0.1543  max mem: 3016\n",
            "Epoch: [3] Total time: 0:00:01 (0.6241 s / it)\n",
            "Averaged stats: lr: 0.000100  class_error: 50.00  loss: 17.6945 (18.6079)  loss_ce: 1.8516 (1.8738)  loss_bbox: 0.3994 (0.5265)  loss_giou: 0.3370 (0.4567)  loss_ce_0: 2.1638 (2.1889)  loss_bbox_0: 0.5934 (0.7492)  loss_giou_0: 0.4546 (0.5229)  loss_ce_1: 2.1029 (2.1143)  loss_bbox_1: 0.5324 (0.5594)  loss_giou_1: 0.3645 (0.4034)  loss_ce_2: 2.0555 (2.0674)  loss_bbox_2: 0.5216 (0.6037)  loss_giou_2: 0.4112 (0.5085)  loss_ce_3: 1.9547 (1.9891)  loss_bbox_3: 0.5536 (0.5955)  loss_giou_3: 0.3902 (0.4713)  loss_ce_4: 1.9246 (1.9302)  loss_bbox_4: 0.4492 (0.5716)  loss_giou_4: 0.3703 (0.4755)  loss_ce_unscaled: 1.8516 (1.8738)  class_error_unscaled: 50.0000 (50.0000)  loss_bbox_unscaled: 0.0799 (0.1053)  loss_giou_unscaled: 0.1685 (0.2284)  cardinality_error_unscaled: 97.0000 (97.0000)  loss_ce_0_unscaled: 2.1638 (2.1889)  loss_bbox_0_unscaled: 0.1187 (0.1498)  loss_giou_0_unscaled: 0.2273 (0.2614)  cardinality_error_0_unscaled: 97.0000 (97.0000)  loss_ce_1_unscaled: 2.1029 (2.1143)  loss_bbox_1_unscaled: 0.1065 (0.1119)  loss_giou_1_unscaled: 0.1823 (0.2017)  cardinality_error_1_unscaled: 97.0000 (97.0000)  loss_ce_2_unscaled: 2.0555 (2.0674)  loss_bbox_2_unscaled: 0.1043 (0.1207)  loss_giou_2_unscaled: 0.2056 (0.2543)  cardinality_error_2_unscaled: 97.0000 (97.0000)  loss_ce_3_unscaled: 1.9547 (1.9891)  loss_bbox_3_unscaled: 0.1107 (0.1191)  loss_giou_3_unscaled: 0.1951 (0.2357)  cardinality_error_3_unscaled: 97.0000 (97.0000)  loss_ce_4_unscaled: 1.9246 (1.9302)  loss_bbox_4_unscaled: 0.0898 (0.1143)  loss_giou_4_unscaled: 0.1852 (0.2377)  cardinality_error_4_unscaled: 97.0000 (97.0000)\n",
            "Epoch: [4]  [0/2]  eta: 0:00:01  lr: 0.000100  class_error: 33.33  loss: 21.1506 (21.1506)  loss_ce: 1.7491 (1.7491)  loss_bbox: 0.9963 (0.9963)  loss_giou: 0.5183 (0.5183)  loss_ce_0: 2.0666 (2.0666)  loss_bbox_0: 0.8998 (0.8998)  loss_giou_0: 0.8768 (0.8768)  loss_ce_1: 2.0127 (2.0127)  loss_bbox_1: 0.8042 (0.8042)  loss_giou_1: 0.8054 (0.8054)  loss_ce_2: 1.9810 (1.9810)  loss_bbox_2: 0.8541 (0.8541)  loss_giou_2: 0.7487 (0.7487)  loss_ce_3: 1.8641 (1.8641)  loss_bbox_3: 1.0101 (1.0101)  loss_giou_3: 0.5771 (0.5771)  loss_ce_4: 1.8174 (1.8174)  loss_bbox_4: 0.9924 (0.9924)  loss_giou_4: 0.5765 (0.5765)  loss_ce_unscaled: 1.7491 (1.7491)  class_error_unscaled: 33.3333 (33.3333)  loss_bbox_unscaled: 0.1993 (0.1993)  loss_giou_unscaled: 0.2591 (0.2591)  cardinality_error_unscaled: 97.0000 (97.0000)  loss_ce_0_unscaled: 2.0666 (2.0666)  loss_bbox_0_unscaled: 0.1800 (0.1800)  loss_giou_0_unscaled: 0.4384 (0.4384)  cardinality_error_0_unscaled: 97.0000 (97.0000)  loss_ce_1_unscaled: 2.0127 (2.0127)  loss_bbox_1_unscaled: 0.1608 (0.1608)  loss_giou_1_unscaled: 0.4027 (0.4027)  cardinality_error_1_unscaled: 97.0000 (97.0000)  loss_ce_2_unscaled: 1.9810 (1.9810)  loss_bbox_2_unscaled: 0.1708 (0.1708)  loss_giou_2_unscaled: 0.3744 (0.3744)  cardinality_error_2_unscaled: 97.0000 (97.0000)  loss_ce_3_unscaled: 1.8641 (1.8641)  loss_bbox_3_unscaled: 0.2020 (0.2020)  loss_giou_3_unscaled: 0.2885 (0.2885)  cardinality_error_3_unscaled: 97.0000 (97.0000)  loss_ce_4_unscaled: 1.8174 (1.8174)  loss_bbox_4_unscaled: 0.1985 (0.1985)  loss_giou_4_unscaled: 0.2882 (0.2882)  cardinality_error_4_unscaled: 97.0000 (97.0000)  time: 0.8490  data: 0.3154  max mem: 3016\n",
            "Epoch: [4]  [1/2]  eta: 0:00:00  lr: 0.000100  class_error: 33.33  loss: 15.6867 (18.4187)  loss_ce: 1.6783 (1.7137)  loss_bbox: 0.4496 (0.7229)  loss_giou: 0.3218 (0.4200)  loss_ce_0: 2.0666 (2.0854)  loss_bbox_0: 0.6613 (0.7806)  loss_giou_0: 0.4289 (0.6529)  loss_ce_1: 2.0127 (2.0484)  loss_bbox_1: 0.3402 (0.5722)  loss_giou_1: 0.2597 (0.5325)  loss_ce_2: 1.9272 (1.9541)  loss_bbox_2: 0.3156 (0.5849)  loss_giou_2: 0.2834 (0.5161)  loss_ce_3: 1.8381 (1.8511)  loss_bbox_3: 0.3221 (0.6661)  loss_giou_3: 0.2594 (0.4183)  loss_ce_4: 1.7197 (1.7686)  loss_bbox_4: 0.4106 (0.7015)  loss_giou_4: 0.2824 (0.4294)  loss_ce_unscaled: 1.6783 (1.7137)  class_error_unscaled: 33.3333 (33.3333)  loss_bbox_unscaled: 0.0899 (0.1446)  loss_giou_unscaled: 0.1609 (0.2100)  cardinality_error_unscaled: 97.0000 (97.0000)  loss_ce_0_unscaled: 2.0666 (2.0854)  loss_bbox_0_unscaled: 0.1323 (0.1561)  loss_giou_0_unscaled: 0.2145 (0.3264)  cardinality_error_0_unscaled: 97.0000 (97.0000)  loss_ce_1_unscaled: 2.0127 (2.0484)  loss_bbox_1_unscaled: 0.0680 (0.1144)  loss_giou_1_unscaled: 0.1299 (0.2663)  cardinality_error_1_unscaled: 97.0000 (97.0000)  loss_ce_2_unscaled: 1.9272 (1.9541)  loss_bbox_2_unscaled: 0.0631 (0.1170)  loss_giou_2_unscaled: 0.1417 (0.2580)  cardinality_error_2_unscaled: 97.0000 (97.0000)  loss_ce_3_unscaled: 1.8381 (1.8511)  loss_bbox_3_unscaled: 0.0644 (0.1332)  loss_giou_3_unscaled: 0.1297 (0.2091)  cardinality_error_3_unscaled: 97.0000 (97.0000)  loss_ce_4_unscaled: 1.7197 (1.7686)  loss_bbox_4_unscaled: 0.0821 (0.1403)  loss_giou_4_unscaled: 0.1412 (0.2147)  cardinality_error_4_unscaled: 97.0000 (97.0000)  time: 0.6363  data: 0.1594  max mem: 3016\n",
            "Epoch: [4] Total time: 0:00:01 (0.6653 s / it)\n",
            "Averaged stats: lr: 0.000100  class_error: 33.33  loss: 15.6867 (18.4187)  loss_ce: 1.6783 (1.7137)  loss_bbox: 0.4496 (0.7229)  loss_giou: 0.3218 (0.4200)  loss_ce_0: 2.0666 (2.0854)  loss_bbox_0: 0.6613 (0.7806)  loss_giou_0: 0.4289 (0.6529)  loss_ce_1: 2.0127 (2.0484)  loss_bbox_1: 0.3402 (0.5722)  loss_giou_1: 0.2597 (0.5325)  loss_ce_2: 1.9272 (1.9541)  loss_bbox_2: 0.3156 (0.5849)  loss_giou_2: 0.2834 (0.5161)  loss_ce_3: 1.8381 (1.8511)  loss_bbox_3: 0.3221 (0.6661)  loss_giou_3: 0.2594 (0.4183)  loss_ce_4: 1.7197 (1.7686)  loss_bbox_4: 0.4106 (0.7015)  loss_giou_4: 0.2824 (0.4294)  loss_ce_unscaled: 1.6783 (1.7137)  class_error_unscaled: 33.3333 (33.3333)  loss_bbox_unscaled: 0.0899 (0.1446)  loss_giou_unscaled: 0.1609 (0.2100)  cardinality_error_unscaled: 97.0000 (97.0000)  loss_ce_0_unscaled: 2.0666 (2.0854)  loss_bbox_0_unscaled: 0.1323 (0.1561)  loss_giou_0_unscaled: 0.2145 (0.3264)  cardinality_error_0_unscaled: 97.0000 (97.0000)  loss_ce_1_unscaled: 2.0127 (2.0484)  loss_bbox_1_unscaled: 0.0680 (0.1144)  loss_giou_1_unscaled: 0.1299 (0.2663)  cardinality_error_1_unscaled: 97.0000 (97.0000)  loss_ce_2_unscaled: 1.9272 (1.9541)  loss_bbox_2_unscaled: 0.0631 (0.1170)  loss_giou_2_unscaled: 0.1417 (0.2580)  cardinality_error_2_unscaled: 97.0000 (97.0000)  loss_ce_3_unscaled: 1.8381 (1.8511)  loss_bbox_3_unscaled: 0.0644 (0.1332)  loss_giou_3_unscaled: 0.1297 (0.2091)  cardinality_error_3_unscaled: 97.0000 (97.0000)  loss_ce_4_unscaled: 1.7197 (1.7686)  loss_bbox_4_unscaled: 0.0821 (0.1403)  loss_giou_4_unscaled: 0.1412 (0.2147)  cardinality_error_4_unscaled: 97.0000 (97.0000)\n",
            "Training time 0:00:33\n"
          ]
        }
      ]
    },
    {
      "cell_type": "code",
      "source": [],
      "metadata": {
        "id": "wkjvxvLUz8l4"
      },
      "execution_count": null,
      "outputs": []
    }
  ]
}